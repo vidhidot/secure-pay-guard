{
 "cells": [
  {
   "cell_type": "code",
   "execution_count": null,
   "id": "3d34f7dc",
   "metadata": {},
   "outputs": [],
   "source": [
    "import pandas as pd"
   ]
  },
  {
   "cell_type": "code",
   "execution_count": null,
   "id": "a4096b06",
   "metadata": {},
   "outputs": [],
   "source": [
    "# Step 1: Load the full dataset\n",
    "df = pd.read_csv(\"creditcard.csv\")"
   ]
  },
  {
   "cell_type": "code",
   "execution_count": null,
   "id": "0dad4f2b",
   "metadata": {},
   "outputs": [],
   "source": [
    "# Step 2: Take a random sample (adjust number as needed)\n",
    "sampled_df = df.sample(n=10000, random_state=42)  # Change 10000 as needed"
   ]
  },
  {
   "cell_type": "code",
   "execution_count": null,
   "id": "cff90a60",
   "metadata": {},
   "outputs": [],
   "source": [
    "# Step 3: Save to a new smaller CSV file\n",
    "sampled_df.to_csv(\"creditcard_sample.csv\", index=False)"
   ]
  },
  {
   "cell_type": "code",
   "execution_count": null,
   "id": "cb0884b7",
   "metadata": {},
   "outputs": [],
   "source": [
    "print(\"Sampled CSV created successfully: creditcard_sample.csv\")"
   ]
  }
 ],
 "metadata": {
  "jupytext": {
   "cell_metadata_filter": "-all",
   "main_language": "python",
   "notebook_metadata_filter": "-all"
  }
 },
 "nbformat": 4,
 "nbformat_minor": 5
}
